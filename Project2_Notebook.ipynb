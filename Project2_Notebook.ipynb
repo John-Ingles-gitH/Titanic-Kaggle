{
 "cells": [
  {
   "cell_type": "markdown",
   "metadata": {
    "deletable": true,
    "editable": true
   },
   "source": [
    "<h1>A Preliminary Investigation into the Factors that Influenced the Survivability of the Sinking of the Titanic.</h1>\n",
    "\n",
    "By John Ingles\n",
    "\n",
    "April 9th, 2017\n",
    "\n",
    "## Introduction\n",
    "\n",
    "In this notebook, I'll investigate a dataset containing passenger data from the Titanic's first and last voyage.\n",
    "\n",
    "## Dataset\n",
    "\n",
    "I'll begin my analysis by taking a look at the dataset in question provided by [Kaggle](https://www.kaggle.com/c/titanic/data).\n",
    "\n",
    "It contains 891 observations of 12 passenger variables:\n",
    " \n",
    "  * `PassengerId`:  A unique number identifying the passenger\n",
    "  * `Survived`:  Survival status of the passenger (survival = 1, non-survival = 0)\n",
    "  * `Pclass`:  The ship class of which the passenger was a member (1 = First, 2 = Second, 3 = Third)\n",
    "  * `Name`:  The passenger's name\n",
    "  * `Age`:  The passenger's age in years\n",
    "  * `SibSp`:  The number of siblings and spouses the passenger had aboard the ship\n",
    "  * `Parch`:  The number of parents and children the passenger had aboard the ship\n",
    "  * `Ticket`:  The passenger's ticket number\n",
    "  * `Fare`:  The fare the passenger paid for their ticket\n",
    "  * `Cabin`:  The number of the cabin the passenger stayed in\n",
    "  * `Embarked`:  The port that the passenger embarked from (C = Cherbourg, Q = Queenstown, S = Southampton)\n",
    "  \n",
    "## Problem Statement and Methods\n",
    "\n",
    "I decided to look into the question of \"What factors most influenced a passenger's chances of survival?\".\n",
    "\n",
    "For this analysis, I'm going to focus on the following data points as I hypothesize that they will be the most important factors affecting survival:\n",
    "* Survival Status\n",
    "* Passenger Class\n",
    "* Sex\n",
    "* Age\n",
    "\n",
    "I'll begin by exploring the variables, their relationships, and looking at mean values for each category to determine some initial trends.  Next, I'll compute the percent survived counts for the different categories and create some figures to display them.  Finally, I'll use the `statsmodels.api` module to perform a maximum likelihood estimation (MLE) with the logit model to determine the odds of survival for each group."
   ]
  },
  {
   "cell_type": "markdown",
   "metadata": {
    "deletable": true,
    "editable": true
   },
   "source": [
    "## Import Modules"
   ]
  },
  {
   "cell_type": "code",
   "execution_count": 1,
   "metadata": {
    "collapsed": false,
    "deletable": true,
    "editable": true
   },
   "outputs": [],
   "source": [
    "import csv\n",
    "import numpy as np\n",
    "import pandas as pd\n",
    "import matplotlib.pyplot as plt\n",
    "import scipy as sp\n",
    "from patsy import dmatrices\n",
    "import statsmodels.api as sm\n",
    "import seaborn as sns"
   ]
  },
  {
   "cell_type": "markdown",
   "metadata": {
    "deletable": true,
    "editable": true
   },
   "source": [
    "## Data Pre-Processing\n",
    "I'll first load the dataset into a pandas dataframe."
   ]
  },
  {
   "cell_type": "code",
   "execution_count": 2,
   "metadata": {
    "collapsed": false,
    "deletable": true,
    "editable": true
   },
   "outputs": [],
   "source": [
    "#load dataset\n",
    "titanic_data = pd.read_csv('titanic-data.csv')"
   ]
  },
  {
   "cell_type": "markdown",
   "metadata": {
    "deletable": true,
    "editable": true
   },
   "source": [
    "## Data Cleaning"
   ]
  },
  {
   "cell_type": "markdown",
   "metadata": {
    "deletable": true,
    "editable": true
   },
   "source": [
    "An investigation into the dataset reveals that not all of the entries have a recorded age."
   ]
  },
  {
   "cell_type": "code",
   "execution_count": 3,
   "metadata": {
    "collapsed": false,
    "deletable": true,
    "editable": true,
    "scrolled": true
   },
   "outputs": [
    {
     "data": {
      "text/html": [
       "<div>\n",
       "<table border=\"1\" class=\"dataframe\">\n",
       "  <thead>\n",
       "    <tr style=\"text-align: right;\">\n",
       "      <th></th>\n",
       "      <th>PassengerId</th>\n",
       "      <th>Survived</th>\n",
       "      <th>Pclass</th>\n",
       "      <th>Age</th>\n",
       "      <th>SibSp</th>\n",
       "      <th>Parch</th>\n",
       "      <th>Fare</th>\n",
       "    </tr>\n",
       "  </thead>\n",
       "  <tbody>\n",
       "    <tr>\n",
       "      <th>count</th>\n",
       "      <td>891.000000</td>\n",
       "      <td>891.000000</td>\n",
       "      <td>891.000000</td>\n",
       "      <td>714.000000</td>\n",
       "      <td>891.000000</td>\n",
       "      <td>891.000000</td>\n",
       "      <td>891.000000</td>\n",
       "    </tr>\n",
       "    <tr>\n",
       "      <th>mean</th>\n",
       "      <td>446.000000</td>\n",
       "      <td>0.383838</td>\n",
       "      <td>2.308642</td>\n",
       "      <td>29.699118</td>\n",
       "      <td>0.523008</td>\n",
       "      <td>0.381594</td>\n",
       "      <td>32.204208</td>\n",
       "    </tr>\n",
       "    <tr>\n",
       "      <th>std</th>\n",
       "      <td>257.353842</td>\n",
       "      <td>0.486592</td>\n",
       "      <td>0.836071</td>\n",
       "      <td>14.526497</td>\n",
       "      <td>1.102743</td>\n",
       "      <td>0.806057</td>\n",
       "      <td>49.693429</td>\n",
       "    </tr>\n",
       "    <tr>\n",
       "      <th>min</th>\n",
       "      <td>1.000000</td>\n",
       "      <td>0.000000</td>\n",
       "      <td>1.000000</td>\n",
       "      <td>0.420000</td>\n",
       "      <td>0.000000</td>\n",
       "      <td>0.000000</td>\n",
       "      <td>0.000000</td>\n",
       "    </tr>\n",
       "    <tr>\n",
       "      <th>25%</th>\n",
       "      <td>223.500000</td>\n",
       "      <td>0.000000</td>\n",
       "      <td>2.000000</td>\n",
       "      <td>20.125000</td>\n",
       "      <td>0.000000</td>\n",
       "      <td>0.000000</td>\n",
       "      <td>7.910400</td>\n",
       "    </tr>\n",
       "    <tr>\n",
       "      <th>50%</th>\n",
       "      <td>446.000000</td>\n",
       "      <td>0.000000</td>\n",
       "      <td>3.000000</td>\n",
       "      <td>28.000000</td>\n",
       "      <td>0.000000</td>\n",
       "      <td>0.000000</td>\n",
       "      <td>14.454200</td>\n",
       "    </tr>\n",
       "    <tr>\n",
       "      <th>75%</th>\n",
       "      <td>668.500000</td>\n",
       "      <td>1.000000</td>\n",
       "      <td>3.000000</td>\n",
       "      <td>38.000000</td>\n",
       "      <td>1.000000</td>\n",
       "      <td>0.000000</td>\n",
       "      <td>31.000000</td>\n",
       "    </tr>\n",
       "    <tr>\n",
       "      <th>max</th>\n",
       "      <td>891.000000</td>\n",
       "      <td>1.000000</td>\n",
       "      <td>3.000000</td>\n",
       "      <td>80.000000</td>\n",
       "      <td>8.000000</td>\n",
       "      <td>6.000000</td>\n",
       "      <td>512.329200</td>\n",
       "    </tr>\n",
       "  </tbody>\n",
       "</table>\n",
       "</div>"
      ],
      "text/plain": [
       "       PassengerId    Survived      Pclass         Age       SibSp  \\\n",
       "count   891.000000  891.000000  891.000000  714.000000  891.000000   \n",
       "mean    446.000000    0.383838    2.308642   29.699118    0.523008   \n",
       "std     257.353842    0.486592    0.836071   14.526497    1.102743   \n",
       "min       1.000000    0.000000    1.000000    0.420000    0.000000   \n",
       "25%     223.500000    0.000000    2.000000   20.125000    0.000000   \n",
       "50%     446.000000    0.000000    3.000000   28.000000    0.000000   \n",
       "75%     668.500000    1.000000    3.000000   38.000000    1.000000   \n",
       "max     891.000000    1.000000    3.000000   80.000000    8.000000   \n",
       "\n",
       "            Parch        Fare  \n",
       "count  891.000000  891.000000  \n",
       "mean     0.381594   32.204208  \n",
       "std      0.806057   49.693429  \n",
       "min      0.000000    0.000000  \n",
       "25%      0.000000    7.910400  \n",
       "50%      0.000000   14.454200  \n",
       "75%      0.000000   31.000000  \n",
       "max      6.000000  512.329200  "
      ]
     },
     "execution_count": 3,
     "metadata": {},
     "output_type": "execute_result"
    }
   ],
   "source": [
    "titanic_data.describe()"
   ]
  },
  {
   "cell_type": "markdown",
   "metadata": {
    "deletable": true,
    "editable": true
   },
   "source": [
    "I'll drop these entries in order to carry out the analysis without errors."
   ]
  },
  {
   "cell_type": "code",
   "execution_count": 4,
   "metadata": {
    "collapsed": true,
    "deletable": true,
    "editable": true
   },
   "outputs": [],
   "source": [
    "titanic_data_age_cleaned = titanic_data.dropna(subset=[\"Age\"])"
   ]
  },
  {
   "cell_type": "markdown",
   "metadata": {
    "deletable": true,
    "editable": true
   },
   "source": [
    "## Data Exploration\n",
    "\n",
    "First, I'll use a pairplot of the variables to show their relationships to each other.  This will be important for determining if various survival statistics are because of a true correlation or are down to the relationships between the variables.  For example, say there are more women in third class than any other class and third class happens to have the worst survival rates. Then, a slight preference for women being chosen for first access to the lifeboats, leading to better survival rates for women, might be rendered less apparent by their abundance in third class."
   ]
  },
  {
   "cell_type": "code",
   "execution_count": 5,
   "metadata": {
    "collapsed": true,
    "deletable": true,
    "editable": true
   },
   "outputs": [],
   "source": [
    "%matplotlib inline"
   ]
  },
  {
   "cell_type": "code",
   "execution_count": 6,
   "metadata": {
    "collapsed": false,
    "deletable": true,
    "editable": true
   },
   "outputs": [
    {
     "data": {
      "image/png": "[encoded data removed]",
      "text/plain": [
       "<matplotlib.figure.Figure at 0xab82ac8>"
      ]
     },
     "metadata": {},
     "output_type": "display_data"
    }
   ],
   "source": [
    "sns.set(style=\"ticks\", color_codes=True)\n",
    "\n",
    "sns.pairplot(titanic_data_age_cleaned, vars= (\"Pclass\",\"Age\"), size=3, hue=\"Sex\")\n",
    "plt.suptitle(\"Pairplot of Age and Class grouped by Sex\");"
   ]
  },
  {
   "cell_type": "markdown",
   "metadata": {
    "deletable": true,
    "editable": true
   },
   "source": [
    "A number of observations can be made here.  First, it can be noted that the distribution of men and women was about even in first and second class, but not in third class where men outnumbered women.  Also, the number of people in general was higher in third class than in the others.  The age distribution of the passengers has few people under 20 and most people in the range of 20-30, after which the number of people in the older ranges steadily decreases.  The age distributions of people in each class show what appears to be younger people on average in the lower classes and older people in the higher classes, but the graphs are not well suited to showing these distributions.  Let's refine the graphs.  A kernel density plot will better show the age distribution onboard and a violin plot will show the age distributions within each class more clearly."
   ]
  },
  {
   "cell_type": "code",
   "execution_count": 7,
   "metadata": {
    "collapsed": false,
    "deletable": true,
    "editable": true
   },
   "outputs": [
    {
     "data": {
      "image/png": "[encoded data removed]",
      "text/plain": [
       "<matplotlib.figure.Figure at 0xb16f470>"
      ]
     },
     "metadata": {},
     "output_type": "display_data"
    }
   ],
   "source": [
    "#plots a kernel density estimate of the passengers' age\n",
    "titanic_data.Age.plot(kind='kde')\n",
    "plt.title(\"Age Distribution Onboard\")\n",
    "plt.xlabel(\"Age\");"
   ]
  },
  {
   "cell_type": "markdown",
   "metadata": {
    "deletable": true,
    "editable": true
   },
   "source": [
    "The age distribution of those on board is skewed to the left (younger) with a small bump around the age of children and infants."
   ]
  },
  {
   "cell_type": "code",
   "execution_count": 8,
   "metadata": {
    "collapsed": false,
    "deletable": true,
    "editable": true
   },
   "outputs": [
    {
     "data": {
      "image/png": "[encoded data removed]",
      "text/plain": [
       "<matplotlib.figure.Figure at 0xb1e9198>"
      ]
     },
     "metadata": {},
     "output_type": "display_data"
    }
   ],
   "source": [
    "sns.violinplot(x=\"Pclass\",y=\"Age\", hue=\"Sex\", data=titanic_data, dropna=True)\n",
    "plt.title(\"Age Distribution of each Class\");"
   ]
  },
  {
   "cell_type": "markdown",
   "metadata": {
    "deletable": true,
    "editable": true
   },
   "source": [
    "There definitely seems to be a tendency for younger people to be in a lower class and older people to be in a higher class.  This is, perhaps, due to older passenger's having more wealth on average."
   ]
  },
  {
   "cell_type": "markdown",
   "metadata": {
    "deletable": true,
    "editable": true
   },
   "source": [
    "I'll finish up the examination of the variables by printing their mean values."
   ]
  },
  {
   "cell_type": "code",
   "execution_count": 31,
   "metadata": {
    "code_folding": [],
    "collapsed": false,
    "deletable": true,
    "editable": true
   },
   "outputs": [],
   "source": [
    "def means_grouped_by_x(data, x):\n",
    "    return data.groupby(x).mean()    "
   ]
  },
  {
   "cell_type": "code",
   "execution_count": 33,
   "metadata": {
    "collapsed": false,
    "deletable": true,
    "editable": true
   },
   "outputs": [
    {
     "data": {
      "text/html": [
       "<div>\n",
       "<table border=\"1\" class=\"dataframe\">\n",
       "  <thead>\n",
       "    <tr style=\"text-align: right;\">\n",
       "      <th></th>\n",
       "      <th>PassengerId</th>\n",
       "      <th>Survived</th>\n",
       "      <th>Age</th>\n",
       "      <th>SibSp</th>\n",
       "      <th>Parch</th>\n",
       "      <th>Fare</th>\n",
       "    </tr>\n",
       "    <tr>\n",
       "      <th>Pclass</th>\n",
       "      <th></th>\n",
       "      <th></th>\n",
       "      <th></th>\n",
       "      <th></th>\n",
       "      <th></th>\n",
       "      <th></th>\n",
       "    </tr>\n",
       "  </thead>\n",
       "  <tbody>\n",
       "    <tr>\n",
       "      <th>1</th>\n",
       "      <td>461.597222</td>\n",
       "      <td>0.629630</td>\n",
       "      <td>38.233441</td>\n",
       "      <td>0.416667</td>\n",
       "      <td>0.356481</td>\n",
       "      <td>84.154687</td>\n",
       "    </tr>\n",
       "    <tr>\n",
       "      <th>2</th>\n",
       "      <td>445.956522</td>\n",
       "      <td>0.472826</td>\n",
       "      <td>29.877630</td>\n",
       "      <td>0.402174</td>\n",
       "      <td>0.380435</td>\n",
       "      <td>20.662183</td>\n",
       "    </tr>\n",
       "    <tr>\n",
       "      <th>3</th>\n",
       "      <td>439.154786</td>\n",
       "      <td>0.242363</td>\n",
       "      <td>25.140620</td>\n",
       "      <td>0.615071</td>\n",
       "      <td>0.393075</td>\n",
       "      <td>13.675550</td>\n",
       "    </tr>\n",
       "  </tbody>\n",
       "</table>\n",
       "</div>"
      ],
      "text/plain": [
       "        PassengerId  Survived        Age     SibSp     Parch       Fare\n",
       "Pclass                                                                 \n",
       "1        461.597222  0.629630  38.233441  0.416667  0.356481  84.154687\n",
       "2        445.956522  0.472826  29.877630  0.402174  0.380435  20.662183\n",
       "3        439.154786  0.242363  25.140620  0.615071  0.393075  13.675550"
      ]
     },
     "execution_count": 33,
     "metadata": {},
     "output_type": "execute_result"
    }
   ],
   "source": [
    "means_grouped_by_x(titanic_data,\"Pclass\")"
   ]
  },
  {
   "cell_type": "code",
   "execution_count": 34,
   "metadata": {
    "collapsed": false,
    "deletable": true,
    "editable": true
   },
   "outputs": [
    {
     "data": {
      "text/html": [
       "<div>\n",
       "<table border=\"1\" class=\"dataframe\">\n",
       "  <thead>\n",
       "    <tr style=\"text-align: right;\">\n",
       "      <th></th>\n",
       "      <th>PassengerId</th>\n",
       "      <th>Survived</th>\n",
       "      <th>Pclass</th>\n",
       "      <th>Age</th>\n",
       "      <th>SibSp</th>\n",
       "      <th>Parch</th>\n",
       "      <th>Fare</th>\n",
       "    </tr>\n",
       "    <tr>\n",
       "      <th>Sex</th>\n",
       "      <th></th>\n",
       "      <th></th>\n",
       "      <th></th>\n",
       "      <th></th>\n",
       "      <th></th>\n",
       "      <th></th>\n",
       "      <th></th>\n",
       "    </tr>\n",
       "  </thead>\n",
       "  <tbody>\n",
       "    <tr>\n",
       "      <th>female</th>\n",
       "      <td>431.028662</td>\n",
       "      <td>0.742038</td>\n",
       "      <td>2.159236</td>\n",
       "      <td>27.915709</td>\n",
       "      <td>0.694268</td>\n",
       "      <td>0.649682</td>\n",
       "      <td>44.479818</td>\n",
       "    </tr>\n",
       "    <tr>\n",
       "      <th>male</th>\n",
       "      <td>454.147314</td>\n",
       "      <td>0.188908</td>\n",
       "      <td>2.389948</td>\n",
       "      <td>30.726645</td>\n",
       "      <td>0.429809</td>\n",
       "      <td>0.235702</td>\n",
       "      <td>25.523893</td>\n",
       "    </tr>\n",
       "  </tbody>\n",
       "</table>\n",
       "</div>"
      ],
      "text/plain": [
       "        PassengerId  Survived    Pclass        Age     SibSp     Parch  \\\n",
       "Sex                                                                      \n",
       "female   431.028662  0.742038  2.159236  27.915709  0.694268  0.649682   \n",
       "male     454.147314  0.188908  2.389948  30.726645  0.429809  0.235702   \n",
       "\n",
       "             Fare  \n",
       "Sex                \n",
       "female  44.479818  \n",
       "male    25.523893  "
      ]
     },
     "execution_count": 34,
     "metadata": {},
     "output_type": "execute_result"
    }
   ],
   "source": [
    "means_grouped_by_x(titanic_data, \"Sex\")"
   ]
  },
  {
   "cell_type": "code",
   "execution_count": 35,
   "metadata": {
    "collapsed": false,
    "deletable": true,
    "editable": true
   },
   "outputs": [
    {
     "data": {
      "text/html": [
       "<div>\n",
       "<table border=\"1\" class=\"dataframe\">\n",
       "  <thead>\n",
       "    <tr style=\"text-align: right;\">\n",
       "      <th></th>\n",
       "      <th>PassengerId</th>\n",
       "      <th>Pclass</th>\n",
       "      <th>Age</th>\n",
       "      <th>SibSp</th>\n",
       "      <th>Parch</th>\n",
       "      <th>Fare</th>\n",
       "    </tr>\n",
       "    <tr>\n",
       "      <th>Survived</th>\n",
       "      <th></th>\n",
       "      <th></th>\n",
       "      <th></th>\n",
       "      <th></th>\n",
       "      <th></th>\n",
       "      <th></th>\n",
       "    </tr>\n",
       "  </thead>\n",
       "  <tbody>\n",
       "    <tr>\n",
       "      <th>0</th>\n",
       "      <td>447.016393</td>\n",
       "      <td>2.531876</td>\n",
       "      <td>30.626179</td>\n",
       "      <td>0.553734</td>\n",
       "      <td>0.329690</td>\n",
       "      <td>22.117887</td>\n",
       "    </tr>\n",
       "    <tr>\n",
       "      <th>1</th>\n",
       "      <td>444.368421</td>\n",
       "      <td>1.950292</td>\n",
       "      <td>28.343690</td>\n",
       "      <td>0.473684</td>\n",
       "      <td>0.464912</td>\n",
       "      <td>48.395408</td>\n",
       "    </tr>\n",
       "  </tbody>\n",
       "</table>\n",
       "</div>"
      ],
      "text/plain": [
       "          PassengerId    Pclass        Age     SibSp     Parch       Fare\n",
       "Survived                                                                 \n",
       "0          447.016393  2.531876  30.626179  0.553734  0.329690  22.117887\n",
       "1          444.368421  1.950292  28.343690  0.473684  0.464912  48.395408"
      ]
     },
     "execution_count": 35,
     "metadata": {},
     "output_type": "execute_result"
    }
   ],
   "source": [
    "means_grouped_by_x(titanic_data,\"Survived\")"
   ]
  },
  {
   "cell_type": "markdown",
   "metadata": {
    "deletable": true,
    "editable": true
   },
   "source": [
    "Looking at these values we can again see the relationship between age and class.  We can also see no dicernible relationship between age and sex."
   ]
  },
  {
   "cell_type": "markdown",
   "metadata": {
    "deletable": true,
    "editable": true
   },
   "source": [
    "Considering the relationships between the variables and the statistics, I decided on some reasonable hypotheses about survivability to test:\n",
    "1. Class was positively correlated with survival\n",
    "2. Women were more likely to survive than men\n",
    "3. Younger people were more likely to survive than older people"
   ]
  },
  {
   "cell_type": "markdown",
   "metadata": {
    "deletable": true,
    "editable": true
   },
   "source": [
    "## Data Visualization"
   ]
  },
  {
   "cell_type": "markdown",
   "metadata": {
    "deletable": true,
    "editable": true
   },
   "source": [
    "To investigate these hypotheses, I'll look at the survival percentages in each category in an attempt to control for the uneven membership numbers between them."
   ]
  },
  {
   "cell_type": "markdown",
   "metadata": {
    "deletable": true,
    "editable": true
   },
   "source": [
    "I'll start by looking at the survival percentages for each passenger class."
   ]
  },
  {
   "cell_type": "code",
   "execution_count": 12,
   "metadata": {
    "collapsed": false,
    "deletable": true,
    "editable": true
   },
   "outputs": [
    {
     "data": {
      "text/html": [
       "<div>\n",
       "<table border=\"1\" class=\"dataframe\">\n",
       "  <thead>\n",
       "    <tr style=\"text-align: right;\">\n",
       "      <th>Survived</th>\n",
       "      <th>1.0</th>\n",
       "    </tr>\n",
       "    <tr>\n",
       "      <th>Pclass</th>\n",
       "      <th></th>\n",
       "    </tr>\n",
       "  </thead>\n",
       "  <tbody>\n",
       "    <tr>\n",
       "      <th>1</th>\n",
       "      <td>62.962963</td>\n",
       "    </tr>\n",
       "    <tr>\n",
       "      <th>2</th>\n",
       "      <td>47.282609</td>\n",
       "    </tr>\n",
       "    <tr>\n",
       "      <th>3</th>\n",
       "      <td>24.236253</td>\n",
       "    </tr>\n",
       "  </tbody>\n",
       "</table>\n",
       "</div>"
      ],
      "text/plain": [
       "Survived        1.0\n",
       "Pclass             \n",
       "1         62.962963\n",
       "2         47.282609\n",
       "3         24.236253"
      ]
     },
     "execution_count": 12,
     "metadata": {},
     "output_type": "execute_result"
    }
   ],
   "source": [
    "class_total = pd.crosstab(titanic_data.Pclass, titanic_data.Survived)\n",
    "class_surv = pd.crosstab(titanic_data.Pclass, titanic_data[titanic_data.Survived==1].Survived)\n",
    "class_surv.div(class_total.sum(1).astype(float), axis=0).multiply(100)"
   ]
  },
  {
   "cell_type": "code",
   "execution_count": 13,
   "metadata": {
    "collapsed": false,
    "deletable": true,
    "editable": true
   },
   "outputs": [
    {
     "data": {
      "image/png": "[encoded data removed]",
      "text/plain": [
       "<matplotlib.figure.Figure at 0xb2eef60>"
      ]
     },
     "metadata": {},
     "output_type": "display_data"
    }
   ],
   "source": [
    "class_surv.div(class_total.sum(1).astype(float), axis=0).multiply(100).plot(kind='bar');\n",
    "plt.title(\"Percent Survived of each Class\")\n",
    "plt.ylabel(\"Percent Survived\");"
   ]
  },
  {
   "cell_type": "markdown",
   "metadata": {
    "deletable": true,
    "editable": true
   },
   "source": [
    "We can see about survival rates of about:\n",
    "* 63% for 1st class\n",
    "* 47% for 2nd class\n",
    "* 24% for 3rd class\n",
    "\n",
    "This correlation between class and survivabilty could be due to a preference of the crew to save the wealthy passengers over the poor ones or due to the fact that 1st class cabins were closer to the deck and would be evacuated first.\n",
    "\n",
    "We saw earlier that there were more men in third class than in first or second.  It could be that a high male death rate could lower the survival rate in third class all by itself and indeed the rate is low as shown below."
   ]
  },
  {
   "cell_type": "code",
   "execution_count": 14,
   "metadata": {
    "collapsed": false,
    "deletable": true,
    "editable": true
   },
   "outputs": [
    {
     "data": {
      "text/html": [
       "<div>\n",
       "<table border=\"1\" class=\"dataframe\">\n",
       "  <thead>\n",
       "    <tr style=\"text-align: right;\">\n",
       "      <th>Survived</th>\n",
       "      <th>1.0</th>\n",
       "    </tr>\n",
       "    <tr>\n",
       "      <th>Sex</th>\n",
       "      <th></th>\n",
       "    </tr>\n",
       "  </thead>\n",
       "  <tbody>\n",
       "    <tr>\n",
       "      <th>female</th>\n",
       "      <td>74.203822</td>\n",
       "    </tr>\n",
       "    <tr>\n",
       "      <th>male</th>\n",
       "      <td>18.890815</td>\n",
       "    </tr>\n",
       "  </tbody>\n",
       "</table>\n",
       "</div>"
      ],
      "text/plain": [
       "Survived        1.0\n",
       "Sex                \n",
       "female    74.203822\n",
       "male      18.890815"
      ]
     },
     "execution_count": 14,
     "metadata": {},
     "output_type": "execute_result"
    }
   ],
   "source": [
    "sex_total = pd.crosstab(titanic_data.Sex, titanic_data.Survived)\n",
    "sex_surv = pd.crosstab(titanic_data.Sex, titanic_data[titanic_data.Survived == 1].Survived)\n",
    "sex_surv.div(sex_total.sum(1).astype(float), axis=0).multiply(100)"
   ]
  },
  {
   "cell_type": "code",
   "execution_count": 15,
   "metadata": {
    "collapsed": false,
    "deletable": true,
    "editable": true
   },
   "outputs": [
    {
     "data": {
      "image/png": "[encoded data removed]",
      "text/plain": [
       "<matplotlib.figure.Figure at 0xb3a80f0>"
      ]
     },
     "metadata": {},
     "output_type": "display_data"
    }
   ],
   "source": [
    "sex_surv.div(sex_total.sum(1).astype(float), axis=0).multiply(100).plot(kind='bar')\n",
    "plt.title(\"Percent Survived of each Sex\")\n",
    "plt.ylabel(\"Percent Survived\");"
   ]
  },
  {
   "cell_type": "markdown",
   "metadata": {
    "deletable": true,
    "editable": true
   },
   "source": [
    "We can see survival rates of about:\n",
    "* 74% for females\n",
    "* 19% for males"
   ]
  },
  {
   "cell_type": "markdown",
   "metadata": {
    "deletable": true,
    "editable": true
   },
   "source": [
    "So, let's further break the graph down by sex to see if the negative correlation can be explained by high male death rates biasing third class."
   ]
  },
  {
   "cell_type": "code",
   "execution_count": 16,
   "metadata": {
    "collapsed": false,
    "deletable": true,
    "editable": true
   },
   "outputs": [
    {
     "data": {
      "image/png": "[encoded data removed]",
      "text/plain": [
       "<matplotlib.figure.Figure at 0xb37c208>"
      ]
     },
     "metadata": {},
     "output_type": "display_data"
    }
   ],
   "source": [
    "survivors_group = titanic_data[titanic_data.Survived == 1]\n",
    "\n",
    "class_sex_total = pd.crosstab(titanic_data.Pclass, titanic_data.Sex)\n",
    "class_sex_survivors = pd.crosstab(survivors_group.Pclass, survivors_group.Sex)\n",
    "\n",
    "class_sex_survivors.div(class_sex_total, axis=0).multiply(100).plot(kind='bar')\n",
    "plt.title(\"Percent Survived by Class and Sex\")\n",
    "plt.ylabel(\"Percent Survived\");"
   ]
  },
  {
   "cell_type": "markdown",
   "metadata": {
    "deletable": true,
    "editable": true
   },
   "source": [
    "From this figure, it appears that a passenger's gender was a greater influence on their survival than their class but there is still a noticeable positive correlation between class and survivability for both genders.  It is then likely that each variable had its own distinct effect, class for the reasons proposed before and sex likely due to the well-known order of \"Women and Children First\" when loading the lifeboats."
   ]
  },
  {
   "cell_type": "markdown",
   "metadata": {
    "deletable": true,
    "editable": true
   },
   "source": [
    "We've gained some support for each of the hypotheses.  As a final test, I'll perform a logistical regression using Class and Sex as categorical variables and Age as a continuous variable."
   ]
  },
  {
   "cell_type": "markdown",
   "metadata": {
    "deletable": true,
    "editable": true
   },
   "source": [
    "## Logistic Regression"
   ]
  },
  {
   "cell_type": "code",
   "execution_count": 17,
   "metadata": {
    "collapsed": false,
    "deletable": true,
    "editable": true,
    "scrolled": false
   },
   "outputs": [
    {
     "name": "stdout",
     "output_type": "stream",
     "text": [
      "Optimization terminated successfully.\n",
      "         Current function value: 0.453279\n",
      "         Iterations 6\n",
      "                           Logit Regression Results                           \n",
      "==============================================================================\n",
      "Dep. Variable:               Survived   No. Observations:                  714\n",
      "Model:                          Logit   Df Residuals:                      709\n",
      "Method:                           MLE   Df Model:                            4\n",
      "Date:                Sun, 14 May 2017   Pseudo R-squ.:                  0.3289\n",
      "Time:                        04:02:44   Log-Likelihood:                -323.64\n",
      "converged:                       True   LL-Null:                       -482.26\n",
      "                                        LLR p-value:                 2.074e-67\n",
      "==================================================================================\n",
      "                     coef    std err          z      P>|z|      [0.025      0.975]\n",
      "----------------------------------------------------------------------------------\n",
      "Intercept          3.7770      0.401      9.416      0.000       2.991       4.563\n",
      "C(Pclass)[T.2]    -1.3098      0.278     -4.710      0.000      -1.855      -0.765\n",
      "C(Pclass)[T.3]    -2.5806      0.281     -9.169      0.000      -3.132      -2.029\n",
      "C(Sex)[T.male]    -2.5228      0.207    -12.164      0.000      -2.929      -2.116\n",
      "Age               -0.0370      0.008     -4.831      0.000      -0.052      -0.022\n",
      "==================================================================================\n",
      "\n",
      "\n",
      "Change in odds of survival for a one unit change in parameter\n",
      "                     2.5%      97.5%         OR\n",
      "Intercept       19.902103  95.889828  43.685343\n",
      "C(Pclass)[T.2]   0.156485   0.465427   0.269874\n",
      "C(Pclass)[T.3]   0.043620   0.131466   0.075727\n",
      "C(Sex)[T.male]   0.053437   0.120476   0.080236\n",
      "Age              0.949338   0.978260   0.963690\n"
     ]
    }
   ],
   "source": [
    "#define variables for Logit, C indicates categorical variables and variable to the left of ~ indicates the dependant variable\n",
    "formula = 'Survived ~ C(Pclass) + C(Sex) + Age'\n",
    "\n",
    "# create a regression friendly dataframe using patsy's dmatrices function\n",
    "y,x = dmatrices(formula, data=titanic_data_age_cleaned, return_type='dataframe')\n",
    "\n",
    "# instantiate our model\n",
    "model = sm.Logit(y,x)\n",
    "\n",
    "# fit our model to the training data\n",
    "results = model.fit()\n",
    "\n",
    "#print result summary\n",
    "print (results.summary())\n",
    "print (\"\\n\")\n",
    "print ('Change in odds of survival for a one unit change in parameter')\n",
    "params = results.params\n",
    "conf = results.conf_int()\n",
    "conf['OR'] = params\n",
    "conf.columns = ['2.5%', '97.5%', 'OR']\n",
    "print (np.exp(conf))"
   ]
  },
  {
   "cell_type": "markdown",
   "metadata": {
    "deletable": true,
    "editable": true
   },
   "source": [
    "The regression successfully converged after 6 iterations.  The changes in odds of survival between each category are summarized below as 95% confidence intervals:\n",
    "* 2nd class is predicted to have about 15.65% - 46.54% as many survivors as 1st class\n",
    "* 3rd class is predicted to have about 4.36% - 13.15% as many survivors as 2nd class\n",
    "* Men are predicted have about 5.34% - 12.05% as many survivors as women\n",
    "* Someone of age n is predicted to have about 94.93% - 97.83% as many survivors as someone of age n-1"
   ]
  },
  {
   "cell_type": "markdown",
   "metadata": {
    "deletable": true,
    "editable": true
   },
   "source": [
    "## Conclusion"
   ]
  },
  {
   "cell_type": "markdown",
   "metadata": {
    "deletable": true,
    "editable": true
   },
   "source": [
    "The means, percent survival counts of each category, and logistic regression all lend credence to the hypotheses for survival trends.  However, the statistics drawn from this investigation are still very rough and can't be used to imply causation.  The pseudo r-squared of the logistic regression was only 0.3289 indicating that the model accounted for relatively little of the variability of the data.  Also, it should be noted that the 95% confidence intervals are very wide for some parameters.  \n",
    "\n",
    "This analysis had several limitations.\n",
    "\n",
    "The data was modified by the removal of 177 passengers who had no recorded age.  This could have altered the distributions of variables in a significant way.  It might have been fixable by replacing the missing ages with the median values for each class-sex group or with values from uniform distributions around the medians, but I chose not to because I wanted to preserve the authenticity of the data.\n",
    "\n",
    "This analysis stopped short of a full statistical test of significance for the correlations found because I intended this to be a mere introduction of the dataset and its trends.  Anyone going further should look to patch up the missing values as best they can and run a chi-square test for independence for Sex vs. Survival and Class vs. Survival.  Also, a more robust regression would benefit from incorporating non-linearity and interaction terms between the variables."
   ]
  },
  {
   "cell_type": "markdown",
   "metadata": {
    "deletable": true,
    "editable": true
   },
   "source": [
    "## References"
   ]
  },
  {
   "cell_type": "markdown",
   "metadata": {
    "deletable": true,
    "editable": true
   },
   "source": [
    "1. For the general structure of a report of this type http://nbviewer.jupyter.org/gist/justmarkham/6d5c061ca5aee67c4316471f8c2ae976\n",
    "\n",
    "2. For help in using the Logit method http://blog.yhat.com/posts/logistic-regression-and-python.html"
   ]
  }
 ],
 "metadata": {
  "anaconda-cloud": {},
  "kernelspec": {
   "display_name": "Python [conda env:py3]",
   "language": "python",
   "name": "conda-env-py3-py"
  },
  "language_info": {
   "codemirror_mode": {
    "name": "ipython",
    "version": 3
   },
   "file_extension": ".py",
   "mimetype": "text/x-python",
   "name": "python",
   "nbconvert_exporter": "python",
   "pygments_lexer": "ipython3",
   "version": "3.6.1"
  }
 },
 "nbformat": 4,
 "nbformat_minor": 2
}
